{
 "cells": [
  {
   "cell_type": "code",
   "execution_count": 1,
   "metadata": {},
   "outputs": [],
   "source": [
    "from tensorflow.keras.datasets import boston_housing"
   ]
  },
  {
   "cell_type": "code",
   "execution_count": 2,
   "metadata": {},
   "outputs": [],
   "source": [
    "(x_train, y_train), (x_test, y_test) = boston_housing.load_data()"
   ]
  },
  {
   "cell_type": "code",
   "execution_count": 3,
   "metadata": {},
   "outputs": [
    {
     "data": {
      "text/plain": [
       "((404, 13), (404,), (102, 13), (102,))"
      ]
     },
     "execution_count": 3,
     "metadata": {},
     "output_type": "execute_result"
    }
   ],
   "source": [
    "x_train.shape, y_train.shape, x_test.shape, y_test.shape"
   ]
  },
  {
   "cell_type": "code",
   "execution_count": 4,
   "metadata": {},
   "outputs": [],
   "source": [
    "import pandas as pd"
   ]
  },
  {
   "cell_type": "code",
   "execution_count": 5,
   "metadata": {},
   "outputs": [
    {
     "data": {
      "text/plain": [
       "count    404.000000\n",
       "mean      22.395050\n",
       "std        9.210442\n",
       "min        5.000000\n",
       "25%       16.675000\n",
       "50%       20.750000\n",
       "75%       24.800000\n",
       "max       50.000000\n",
       "dtype: float64"
      ]
     },
     "execution_count": 5,
     "metadata": {},
     "output_type": "execute_result"
    }
   ],
   "source": [
    "pd.Series(y_train).describe()"
   ]
  },
  {
   "cell_type": "code",
   "execution_count": 6,
   "metadata": {},
   "outputs": [],
   "source": [
    "from tensorflow.keras import Model, Input, layers as L"
   ]
  },
  {
   "cell_type": "code",
   "execution_count": 7,
   "metadata": {},
   "outputs": [],
   "source": [
    "# 定义多元性线回归模型\n",
    "# 就是没有激活函数的密集层\n",
    "\n",
    "class Net:\n",
    "    def __init__(self):\n",
    "        self.dense = L.Dense(1)\n",
    "    \n",
    "    def build_model(self):\n",
    "        x_in = Input(shape=13)\n",
    "        out = self.dense(x_in)\n",
    "        \n",
    "        return Model(x_in, out)\n",
    "    \n",
    "model = Net().build_model()"
   ]
  },
  {
   "cell_type": "code",
   "execution_count": 8,
   "metadata": {},
   "outputs": [
    {
     "name": "stdout",
     "output_type": "stream",
     "text": [
      "Model: \"model\"\n",
      "_________________________________________________________________\n",
      "Layer (type)                 Output Shape              Param #   \n",
      "=================================================================\n",
      "input_1 (InputLayer)         [(None, 13)]              0         \n",
      "_________________________________________________________________\n",
      "dense (Dense)                (None, 1)                 14        \n",
      "=================================================================\n",
      "Total params: 14\n",
      "Trainable params: 14\n",
      "Non-trainable params: 0\n",
      "_________________________________________________________________\n"
     ]
    }
   ],
   "source": [
    "model.summary()"
   ]
  },
  {
   "cell_type": "code",
   "execution_count": 9,
   "metadata": {},
   "outputs": [],
   "source": [
    "model.compile(optimizer='adam', loss='mse', metrics=['mse'])"
   ]
  },
  {
   "cell_type": "code",
   "execution_count": 26,
   "metadata": {},
   "outputs": [],
   "source": [
    "# 内容较多，注释了输出信息\n",
    "%time model.fit(x_train, y_train, epochs=10000, batch_size=32)"
   ]
  },
  {
   "cell_type": "code",
   "execution_count": 11,
   "metadata": {},
   "outputs": [
    {
     "data": {
      "text/plain": [
       "array([[2.2876e-01, 0.0000e+00, 8.5600e+00, 0.0000e+00, 5.2000e-01,\n",
       "        6.4050e+00, 8.5400e+01, 2.7147e+00, 5.0000e+00, 3.8400e+02,\n",
       "        2.0900e+01, 7.0800e+01, 1.0630e+01]])"
      ]
     },
     "execution_count": 11,
     "metadata": {},
     "output_type": "execute_result"
    }
   ],
   "source": [
    "x_test[10,:].reshape(1, -1)"
   ]
  },
  {
   "cell_type": "code",
   "execution_count": 12,
   "metadata": {},
   "outputs": [
    {
     "data": {
      "text/plain": [
       "(array([34.9, 26.6,  7.2]),\n",
       " array([[33.339603],\n",
       "        [26.987555],\n",
       "        [19.277012]], dtype=float32))"
      ]
     },
     "execution_count": 12,
     "metadata": {},
     "output_type": "execute_result"
    }
   ],
   "source": [
    "y_test[54:57], model.predict(x_test[54:57])"
   ]
  },
  {
   "cell_type": "markdown",
   "metadata": {},
   "source": [
    "## 使用pytorch搭建多元线性回归"
   ]
  },
  {
   "cell_type": "code",
   "execution_count": 13,
   "metadata": {},
   "outputs": [],
   "source": [
    "import torch as t\n",
    "from torch import nn  \n",
    "import torch.nn.functional as F"
   ]
  },
  {
   "cell_type": "code",
   "execution_count": 14,
   "metadata": {},
   "outputs": [],
   "source": [
    "from tensorflow.keras.datasets import boston_housing\n",
    "(x_train, y_train), (x_test, y_test) = boston_housing.load_data()"
   ]
  },
  {
   "cell_type": "code",
   "execution_count": 15,
   "metadata": {},
   "outputs": [],
   "source": [
    "class MultiRegression(nn.Module):\n",
    "    def __init__(self):\n",
    "        super(MultiRegression, self).__init__()\n",
    "        self.linear = nn.Linear(13, 1)\n",
    "    \n",
    "    def forward(self, x):\n",
    "        y = self.linear(x)\n",
    "        return y\n",
    "    \n",
    "regression = MultiRegression()"
   ]
  },
  {
   "cell_type": "code",
   "execution_count": 16,
   "metadata": {},
   "outputs": [
    {
     "data": {
      "text/plain": [
       "MultiRegression(\n",
       "  (linear): Linear(in_features=13, out_features=1, bias=True)\n",
       ")"
      ]
     },
     "execution_count": 16,
     "metadata": {},
     "output_type": "execute_result"
    }
   ],
   "source": [
    "regression"
   ]
  },
  {
   "cell_type": "code",
   "execution_count": 17,
   "metadata": {},
   "outputs": [],
   "source": [
    "opt = t.optim.Adam(regression.parameters()) # 注意学习率的大小"
   ]
  },
  {
   "cell_type": "code",
   "execution_count": 18,
   "metadata": {},
   "outputs": [],
   "source": [
    "criterion = nn.MSELoss()"
   ]
  },
  {
   "cell_type": "code",
   "execution_count": 19,
   "metadata": {},
   "outputs": [],
   "source": [
    "x_t = t.from_numpy(x_train).float()\n",
    "y_t = t.from_numpy(y_train).float()"
   ]
  },
  {
   "cell_type": "code",
   "execution_count": 20,
   "metadata": {},
   "outputs": [],
   "source": [
    "y_t = y_t.reshape(-1, 1)"
   ]
  },
  {
   "cell_type": "code",
   "execution_count": 21,
   "metadata": {},
   "outputs": [],
   "source": [
    "y_pred = regression(x_t)\n",
    "loss = criterion(y_pred, y_t)\n",
    "\n",
    "opt.zero_grad()\n",
    "loss.backward()\n",
    "\n",
    "opt.step()"
   ]
  },
  {
   "cell_type": "code",
   "execution_count": 22,
   "metadata": {},
   "outputs": [
    {
     "data": {
      "text/plain": [
       "1043.4547119140625"
      ]
     },
     "execution_count": 22,
     "metadata": {},
     "output_type": "execute_result"
    }
   ],
   "source": [
    "loss.item()"
   ]
  },
  {
   "cell_type": "code",
   "execution_count": 23,
   "metadata": {
    "scrolled": true
   },
   "outputs": [
    {
     "name": "stdout",
     "output_type": "stream",
     "text": [
      "epoch: [100] loss:203.4430694580078\n",
      "epoch: [200] loss:69.84640502929688\n",
      "epoch: [300] loss:59.75893783569336\n",
      "epoch: [400] loss:57.23213577270508\n",
      "epoch: [500] loss:55.362525939941406\n",
      "epoch: [600] loss:53.775753021240234\n",
      "epoch: [700] loss:52.38758850097656\n",
      "epoch: [800] loss:51.153934478759766\n",
      "epoch: [900] loss:50.039451599121094\n",
      "epoch: [1000] loss:49.01557159423828\n",
      "epoch: [1100] loss:48.060787200927734\n",
      "epoch: [1200] loss:47.1601676940918\n",
      "epoch: [1300] loss:46.30411911010742\n",
      "epoch: [1400] loss:45.48698043823242\n",
      "epoch: [1500] loss:44.705684661865234\n",
      "epoch: [1600] loss:43.95865249633789\n",
      "epoch: [1700] loss:43.2449836730957\n",
      "epoch: [1800] loss:42.56388473510742\n",
      "epoch: [1900] loss:41.9144172668457\n",
      "epoch: [2000] loss:41.295310974121094\n",
      "epoch: [2100] loss:40.704978942871094\n",
      "epoch: [2200] loss:40.141544342041016\n",
      "epoch: [2300] loss:39.602909088134766\n",
      "epoch: [2400] loss:39.086830139160156\n",
      "epoch: [2500] loss:38.590999603271484\n",
      "epoch: [2600] loss:38.11316680908203\n",
      "epoch: [2700] loss:37.651145935058594\n",
      "epoch: [2800] loss:37.202911376953125\n",
      "epoch: [2900] loss:36.766632080078125\n",
      "epoch: [3000] loss:36.3406982421875\n",
      "epoch: [3100] loss:35.92373275756836\n",
      "epoch: [3200] loss:35.51459884643555\n",
      "epoch: [3300] loss:35.1124153137207\n",
      "epoch: [3400] loss:34.716522216796875\n",
      "epoch: [3500] loss:34.32646179199219\n",
      "epoch: [3600] loss:33.941951751708984\n",
      "epoch: [3700] loss:33.562896728515625\n",
      "epoch: [3800] loss:33.189308166503906\n",
      "epoch: [3900] loss:32.82132339477539\n",
      "epoch: [4000] loss:32.45915603637695\n",
      "epoch: [4100] loss:32.10308837890625\n",
      "epoch: [4200] loss:31.75343132019043\n",
      "epoch: [4300] loss:31.410545349121094\n",
      "epoch: [4400] loss:31.074787139892578\n",
      "epoch: [4500] loss:30.746517181396484\n",
      "epoch: [4600] loss:30.42607307434082\n",
      "epoch: [4700] loss:30.11378288269043\n",
      "epoch: [4800] loss:29.809961318969727\n",
      "epoch: [4900] loss:29.514867782592773\n",
      "epoch: [5000] loss:29.228740692138672\n",
      "epoch: [5100] loss:28.951780319213867\n",
      "epoch: [5200] loss:28.684171676635742\n",
      "epoch: [5300] loss:28.426021575927734\n",
      "epoch: [5400] loss:28.17743492126465\n",
      "epoch: [5500] loss:27.938459396362305\n",
      "epoch: [5600] loss:27.709121704101562\n",
      "epoch: [5700] loss:27.489404678344727\n",
      "epoch: [5800] loss:27.279281616210938\n",
      "epoch: [5900] loss:27.07867431640625\n",
      "epoch: [6000] loss:26.887493133544922\n",
      "epoch: [6100] loss:26.70561408996582\n",
      "epoch: [6200] loss:26.53289031982422\n",
      "epoch: [6300] loss:26.369165420532227\n",
      "epoch: [6400] loss:26.214248657226562\n",
      "epoch: [6500] loss:26.06793212890625\n",
      "epoch: [6600] loss:25.930002212524414\n",
      "epoch: [6700] loss:25.800222396850586\n",
      "epoch: [6800] loss:25.678340911865234\n",
      "epoch: [6900] loss:25.56409454345703\n",
      "epoch: [7000] loss:25.457204818725586\n",
      "epoch: [7100] loss:25.357389450073242\n",
      "epoch: [7200] loss:25.26434898376465\n",
      "epoch: [7300] loss:25.177776336669922\n",
      "epoch: [7400] loss:25.097431182861328\n",
      "epoch: [7500] loss:25.02294158935547\n",
      "epoch: [7600] loss:24.95401954650879\n",
      "epoch: [7700] loss:24.89031410217285\n",
      "epoch: [7800] loss:24.831811904907227\n",
      "epoch: [7900] loss:24.77730941772461\n",
      "epoch: [8000] loss:24.727338790893555\n",
      "epoch: [8100] loss:24.681392669677734\n",
      "epoch: [8200] loss:24.63909149169922\n",
      "epoch: [8300] loss:24.6012020111084\n",
      "epoch: [8400] loss:24.564434051513672\n",
      "epoch: [8500] loss:24.5314998626709\n",
      "epoch: [8600] loss:24.501245498657227\n",
      "epoch: [8700] loss:24.473363876342773\n",
      "epoch: [8800] loss:24.447805404663086\n",
      "epoch: [8900] loss:24.423946380615234\n",
      "epoch: [9000] loss:24.40193748474121\n",
      "epoch: [9100] loss:24.381572723388672\n",
      "epoch: [9200] loss:24.362560272216797\n",
      "epoch: [9300] loss:24.344770431518555\n",
      "epoch: [9400] loss:24.328081130981445\n",
      "epoch: [9500] loss:24.312252044677734\n",
      "epoch: [9600] loss:24.297290802001953\n",
      "epoch: [9700] loss:24.28300666809082\n",
      "epoch: [9800] loss:24.2691707611084\n",
      "epoch: [9900] loss:24.25589942932129\n",
      "epoch: [10000] loss:24.242956161499023\n"
     ]
    }
   ],
   "source": [
    "for epoch in range(1, 10001):\n",
    "    y_pred = regression(x_t)\n",
    "    loss = criterion(y_pred, y_t)\n",
    "\n",
    "    opt.zero_grad()\n",
    "    loss.backward()\n",
    "\n",
    "    opt.step()\n",
    "\n",
    "    if epoch % 100 == 0:\n",
    "        print(f\"epoch: {[epoch]} loss:{loss.item()}\")"
   ]
  },
  {
   "cell_type": "code",
   "execution_count": 24,
   "metadata": {},
   "outputs": [],
   "source": [
    "x_test_tensor = t.from_numpy(x_test).float()\n"
   ]
  },
  {
   "cell_type": "code",
   "execution_count": 25,
   "metadata": {},
   "outputs": [
    {
     "data": {
      "text/plain": [
       "(array([34.9, 26.6,  7.2]),\n",
       " tensor([[33.1914],\n",
       "         [26.9242],\n",
       "         [19.4426]], grad_fn=<AddmmBackward>))"
      ]
     },
     "execution_count": 25,
     "metadata": {},
     "output_type": "execute_result"
    }
   ],
   "source": [
    "y_test[54:57], regression(x_test_tensor[54:57])"
   ]
  },
  {
   "cell_type": "code",
   "execution_count": null,
   "metadata": {},
   "outputs": [],
   "source": []
  }
 ],
 "metadata": {
  "kernelspec": {
   "display_name": "Python 3",
   "language": "python",
   "name": "python3"
  },
  "language_info": {
   "codemirror_mode": {
    "name": "ipython",
    "version": 3
   },
   "file_extension": ".py",
   "mimetype": "text/x-python",
   "name": "python",
   "nbconvert_exporter": "python",
   "pygments_lexer": "ipython3",
   "version": "3.7.7"
  }
 },
 "nbformat": 4,
 "nbformat_minor": 4
}
