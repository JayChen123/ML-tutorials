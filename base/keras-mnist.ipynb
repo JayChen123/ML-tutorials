{
 "cells": [
  {
   "cell_type": "markdown",
   "metadata": {},
   "source": [
    "# Keras 手写数字识别项目"
   ]
  },
  {
   "cell_type": "markdown",
   "metadata": {},
   "source": [
    "视频播放地址：\n",
    "\n",
    "手写数字识别项目--项目介绍：https://www.bilibili.com/video/BV1d54y167CG/\n",
    "\n",
    "书写数字识别项目--代码实现：https://www.bilibili.com/video/BV1Jr4y1w7Cj/?spm_id_from=333.788.videocard.1\n",
    "\n",
    "书写数字识别项目--补充计算参数：https://www.bilibili.com/video/BV1iy4y1B7j6/?spm_id_from=333.788.videocard.0"
   ]
  },
  {
   "cell_type": "markdown",
   "metadata": {},
   "source": [
    "## 数据集导入\n",
    "EDA简单探索数据的维度，以及标记样本的分布"
   ]
  },
  {
   "cell_type": "code",
   "execution_count": 1,
   "metadata": {},
   "outputs": [],
   "source": [
    "from tensorflow.keras.datasets import mnist"
   ]
  },
  {
   "cell_type": "code",
   "execution_count": 2,
   "metadata": {},
   "outputs": [],
   "source": [
    "# mnist.load_data?\n",
    "(x_train, y_train), (x_test, y_test) = mnist.load_data()"
   ]
  },
  {
   "cell_type": "code",
   "execution_count": 3,
   "metadata": {},
   "outputs": [
    {
     "name": "stdout",
     "output_type": "stream",
     "text": [
      "(60000, 28, 28)\n",
      "(60000,)\n",
      "(10000, 28, 28)\n",
      "(10000,)\n"
     ]
    }
   ],
   "source": [
    "# 查看训练数据和测试的shape\n",
    "\n",
    "print_shape = lambda x: print(x.shape)\n",
    "\n",
    "print_shape(x_train)\n",
    "print_shape(y_train)\n",
    "print_shape(x_test)\n",
    "print_shape(y_test)"
   ]
  },
  {
   "cell_type": "code",
   "execution_count": 4,
   "metadata": {},
   "outputs": [
    {
     "data": {
      "image/png": "[encoded data removed]",
      "text/plain": [
       "<Figure size 432x288 with 12 Axes>"
      ]
     },
     "metadata": {
      "needs_background": "light"
     },
     "output_type": "display_data"
    }
   ],
   "source": [
    "# 1x28x28 的图片\n",
    "# 可视化部分数据集\n",
    "import matplotlib.pyplot as plt\n",
    "row = 6\n",
    "col = 2\n",
    "for i in range(1, row * col + 1):\n",
    "    plt.subplot(col, row, i)\n",
    "    plt.imshow(x_train[i])\n",
    "    plt.title(y_train[i])"
   ]
  },
  {
   "cell_type": "code",
   "execution_count": 5,
   "metadata": {},
   "outputs": [
    {
     "name": "stdout",
     "output_type": "stream",
     "text": [
      "训练样本分布:\n",
      " 1    6742\n",
      "7    6265\n",
      "3    6131\n",
      "2    5958\n",
      "9    5949\n",
      "0    5923\n",
      "6    5918\n",
      "8    5851\n",
      "4    5842\n",
      "5    5421\n",
      "dtype: int64\n",
      "测试样本分布:\n",
      " 1    1135\n",
      "2    1032\n",
      "7    1028\n",
      "3    1010\n",
      "9    1009\n",
      "4     982\n",
      "0     980\n",
      "8     974\n",
      "6     958\n",
      "5     892\n",
      "dtype: int64\n"
     ]
    }
   ],
   "source": [
    "# 查看样本的分布情况\n",
    "import pandas as pd\n",
    "\n",
    "print(\"训练样本分布:\\n\", pd.Series(y_train).value_counts())\n",
    "print(\"测试样本分布:\\n\", pd.Series(y_test).value_counts())"
   ]
  },
  {
   "cell_type": "markdown",
   "metadata": {},
   "source": [
    "## 构建模型\n",
    "采用双层的CNN"
   ]
  },
  {
   "cell_type": "code",
   "execution_count": 6,
   "metadata": {},
   "outputs": [],
   "source": [
    "from tensorflow.keras import Input, Model\n",
    "from tensorflow.keras import layers as L"
   ]
  },
  {
   "cell_type": "code",
   "execution_count": 7,
   "metadata": {},
   "outputs": [
    {
     "name": "stdout",
     "output_type": "stream",
     "text": [
      "{\r\n",
      "    \"floatx\": \"float32\",\r\n",
      "    \"epsilon\": 1e-07,\r\n",
      "    \"backend\": \"tensorflow\",\r\n",
      "    \"image_data_format\": \"channels_last\"\r\n",
      "}"
     ]
    }
   ],
   "source": [
    "# 查看后端配置的channels\n",
    "# 默认是 channels_last\n",
    "!cat /Users/chan/.keras/keras.json"
   ]
  },
  {
   "cell_type": "code",
   "execution_count": 8,
   "metadata": {},
   "outputs": [],
   "source": [
    "# 搭建模型\n",
    "\n",
    "class Net:\n",
    "    def __init__(self):\n",
    "        self.image_shape = (28, 28, 1)\n",
    "        self.conv1 = L.Conv2D(filters=128, kernel_size=(3,3), strides=1, padding='same', activation='relu')\n",
    "        self.conv2 = L.Conv2D(filters=256, kernel_size=(3,3), strides=1, padding='same', activation='relu')\n",
    "        self.pool1 = L.MaxPool2D((2,2))\n",
    "        self.pool2 = L.MaxPool2D((2,2))\n",
    "        self.flatten = L.Flatten()\n",
    "        self.fc = L.Dense(256)\n",
    "        self.softmax = L.Dense(10, activation='softmax')\n",
    "        self.model:Model = None\n",
    "        \n",
    "    def build_model(self):\n",
    "        in_ = Input(shape=self.image_shape)\n",
    "        x = self.conv1(in_)\n",
    "        x = self.pool1(x)\n",
    "        x = self.conv2(x)\n",
    "        x = self.pool2(x)\n",
    "        x = self.flatten(x)\n",
    "        x = self.fc(x)\n",
    "        out = self.softmax(x)\n",
    "        self.model = Model(in_, out)\n",
    "        self.model.summary()"
   ]
  },
  {
   "cell_type": "code",
   "execution_count": 9,
   "metadata": {},
   "outputs": [
    {
     "name": "stdout",
     "output_type": "stream",
     "text": [
      "Model: \"model\"\n",
      "_________________________________________________________________\n",
      "Layer (type)                 Output Shape              Param #   \n",
      "=================================================================\n",
      "input_1 (InputLayer)         [(None, 28, 28, 1)]       0         \n",
      "_________________________________________________________________\n",
      "conv2d (Conv2D)              (None, 28, 28, 128)       1280      \n",
      "_________________________________________________________________\n",
      "max_pooling2d (MaxPooling2D) (None, 14, 14, 128)       0         \n",
      "_________________________________________________________________\n",
      "conv2d_1 (Conv2D)            (None, 14, 14, 256)       295168    \n",
      "_________________________________________________________________\n",
      "max_pooling2d_1 (MaxPooling2 (None, 7, 7, 256)         0         \n",
      "_________________________________________________________________\n",
      "flatten (Flatten)            (None, 12544)             0         \n",
      "_________________________________________________________________\n",
      "dense (Dense)                (None, 256)               3211520   \n",
      "_________________________________________________________________\n",
      "dense_1 (Dense)              (None, 10)                2570      \n",
      "=================================================================\n",
      "Total params: 3,510,538\n",
      "Trainable params: 3,510,538\n",
      "Non-trainable params: 0\n",
      "_________________________________________________________________\n"
     ]
    }
   ],
   "source": [
    "net = Net()\n",
    "net.build_model()"
   ]
  },
  {
   "cell_type": "code",
   "execution_count": 11,
   "metadata": {},
   "outputs": [],
   "source": [
    "#from tensorflow.keras.losses import categorical_crossentropy\n",
    "\n",
    "net.model.compile(optimizer='Adam', loss='sparse_categorical_crossentropy', metrics=['accuracy'])"
   ]
  },
  {
   "cell_type": "code",
   "execution_count": 10,
   "metadata": {},
   "outputs": [
    {
     "name": "stdout",
     "output_type": "stream",
     "text": [
      "(60000, 28, 28, 1)\n"
     ]
    }
   ],
   "source": [
    "import numpy as np\n",
    "x_train = np.expand_dims(x_train, axis=3)\n",
    "x_test = np.expand_dims(x_test, axis=3)\n",
    "print(x_train.shape)"
   ]
  },
  {
   "cell_type": "code",
   "execution_count": 13,
   "metadata": {},
   "outputs": [
    {
     "name": "stdout",
     "output_type": "stream",
     "text": [
      "Train on 60000 samples, validate on 10000 samples\n",
      "Epoch 1/2\n",
      "60000/60000 [==============================] - 154s 3ms/sample - loss: 0.1225 - accuracy: 0.9649 - val_loss: 0.0854 - val_accuracy: 0.9749\n",
      "Epoch 2/2\n",
      "60000/60000 [==============================] - 353s 6ms/sample - loss: 0.0968 - accuracy: 0.9713 - val_loss: 0.0904 - val_accuracy: 0.9730\n"
     ]
    },
    {
     "data": {
      "text/plain": [
       "<tensorflow.python.keras.callbacks.History at 0x7fc378711250>"
      ]
     },
     "execution_count": 13,
     "metadata": {},
     "output_type": "execute_result"
    }
   ],
   "source": [
    "net.model.fit(x_train, y_train, epochs=2, batch_size=32, validation_data=(x_test, y_test))\n",
    "\n",
    "\n",
    "# Train on 60000 samples, validate on 10000 samples\n",
    "# Epoch 1/2\n",
    "# 60000/60000 [==============================] - 154s 3ms/sample - loss: 0.7378 - accuracy: 0.9259 - \n",
    "# val_loss: 0.1370 - val_accuracy: 0.9562\n",
    "# Epoch 2/2\n",
    "# 60000/60000 [==============================] - 153s 3ms/sample - loss: 0.1190 - accuracy: 0.9661 - \n",
    "# val_loss: 0.1004 - val_accuracy: 0.9699"
   ]
  },
  {
   "cell_type": "code",
   "execution_count": 14,
   "metadata": {},
   "outputs": [],
   "source": [
    "# 测试数据中做预测，并可视化出来\n",
    "def evaluate(test_img_index):\n",
    "    # test_img_index < 10000\n",
    "    plt.imshow(x_test[test_img_index].reshape(28, 28))\n",
    "    plt.title(np.argmax(net.model.predict(np.expand_dims(x_test[test_img_index], axis=0))))"
   ]
  },
  {
   "cell_type": "code",
   "execution_count": 15,
   "metadata": {},
   "outputs": [
    {
     "data": {
      "image/png": "[encoded data removed]",
      "text/plain": [
       "<Figure size 432x288 with 1 Axes>"
      ]
     },
     "metadata": {
      "needs_background": "light"
     },
     "output_type": "display_data"
    }
   ],
   "source": [
    "evaluate(555)"
   ]
  },
  {
   "cell_type": "code",
   "execution_count": 16,
   "metadata": {},
   "outputs": [
    {
     "data": {
      "image/png": "[encoded data removed]",
      "text/plain": [
       "<Figure size 432x288 with 1 Axes>"
      ]
     },
     "metadata": {
      "needs_background": "light"
     },
     "output_type": "display_data"
    }
   ],
   "source": [
    "evaluate(6778)"
   ]
  },
  {
   "cell_type": "code",
   "execution_count": null,
   "metadata": {},
   "outputs": [],
   "source": []
  }
 ],
 "metadata": {
  "kernelspec": {
   "display_name": "Python 3",
   "language": "python",
   "name": "python3"
  },
  "language_info": {
   "codemirror_mode": {
    "name": "ipython",
    "version": 3
   },
   "file_extension": ".py",
   "mimetype": "text/x-python",
   "name": "python",
   "nbconvert_exporter": "python",
   "pygments_lexer": "ipython3",
   "version": "3.7.7"
  }
 },
 "nbformat": 4,
 "nbformat_minor": 4
}
