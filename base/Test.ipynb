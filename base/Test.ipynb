{
 "cells": [
  {
   "cell_type": "code",
   "execution_count": 1,
   "metadata": {},
   "outputs": [],
   "source": [
    "import torch as t"
   ]
  },
  {
   "cell_type": "code",
   "execution_count": 7,
   "metadata": {},
   "outputs": [],
   "source": [
    "x = t.linspace(0, 2, 100)\n",
    "x.requires_grad = True\n",
    "y = 3 * x **2 + 2 * x - 1"
   ]
  },
  {
   "cell_type": "code",
   "execution_count": 8,
   "metadata": {},
   "outputs": [
    {
     "data": {
      "text/plain": [
       "tensor([-1.0000, -0.9584, -0.9143, -0.8678, -0.8188, -0.7674, -0.7135, -0.6572,\n",
       "        -0.5984, -0.5372, -0.4735, -0.4074, -0.3388, -0.2678, -0.1944, -0.1185,\n",
       "        -0.0401,  0.0407,  0.1240,  0.2097,  0.2978,  0.3884,  0.4815,  0.5770,\n",
       "         0.6749,  0.7753,  0.8782,  0.9835,  1.0912,  1.2014,  1.3140,  1.4291,\n",
       "         1.5467,  1.6667,  1.7891,  1.9140,  2.0413,  2.1711,  2.3033,  2.4380,\n",
       "         2.5751,  2.7147,  2.8567,  3.0012,  3.1481,  3.2975,  3.4493,  3.6036,\n",
       "         3.7603,  3.9195,  4.0811,  4.2452,  4.4117,  4.5807,  4.7521,  4.9259,\n",
       "         5.1022,  5.2810,  5.4622,  5.6459,  5.8320,  6.0205,  6.2115,  6.4050,\n",
       "         6.6009,  6.7992,  7.0000,  7.2032,  7.4089,  7.6171,  7.8277,  8.0407,\n",
       "         8.2562,  8.4741,  8.6945,  8.9174,  9.1426,  9.3704,  9.6006,  9.8332,\n",
       "        10.0683, 10.3058, 10.5458, 10.7882, 11.0331, 11.2804, 11.5302, 11.7824,\n",
       "        12.0370, 12.2942, 12.5537, 12.8157, 13.0802, 13.3471, 13.6165, 13.8883,\n",
       "        14.1625, 14.4392, 14.7184, 15.0000], grad_fn=<SubBackward0>)"
      ]
     },
     "execution_count": 8,
     "metadata": {},
     "output_type": "execute_result"
    }
   ],
   "source": [
    "y"
   ]
  },
  {
   "cell_type": "code",
   "execution_count": 9,
   "metadata": {},
   "outputs": [
    {
     "data": {
      "text/plain": [
       "tensor([0.0000, 0.0202, 0.0404, 0.0606, 0.0808, 0.1010, 0.1212, 0.1414, 0.1616,\n",
       "        0.1818, 0.2020, 0.2222, 0.2424, 0.2626, 0.2828, 0.3030, 0.3232, 0.3434,\n",
       "        0.3636, 0.3838, 0.4040, 0.4242, 0.4444, 0.4646, 0.4848, 0.5051, 0.5253,\n",
       "        0.5455, 0.5657, 0.5859, 0.6061, 0.6263, 0.6465, 0.6667, 0.6869, 0.7071,\n",
       "        0.7273, 0.7475, 0.7677, 0.7879, 0.8081, 0.8283, 0.8485, 0.8687, 0.8889,\n",
       "        0.9091, 0.9293, 0.9495, 0.9697, 0.9899, 1.0101, 1.0303, 1.0505, 1.0707,\n",
       "        1.0909, 1.1111, 1.1313, 1.1515, 1.1717, 1.1919, 1.2121, 1.2323, 1.2525,\n",
       "        1.2727, 1.2929, 1.3131, 1.3333, 1.3535, 1.3737, 1.3939, 1.4141, 1.4343,\n",
       "        1.4545, 1.4747, 1.4949, 1.5152, 1.5354, 1.5556, 1.5758, 1.5960, 1.6162,\n",
       "        1.6364, 1.6566, 1.6768, 1.6970, 1.7172, 1.7374, 1.7576, 1.7778, 1.7980,\n",
       "        1.8182, 1.8384, 1.8586, 1.8788, 1.8990, 1.9192, 1.9394, 1.9596, 1.9798,\n",
       "        2.0000], requires_grad=True)"
      ]
     },
     "execution_count": 9,
     "metadata": {},
     "output_type": "execute_result"
    }
   ],
   "source": [
    "x"
   ]
  },
  {
   "cell_type": "code",
   "execution_count": 10,
   "metadata": {},
   "outputs": [],
   "source": [
    "loss = y.sum()"
   ]
  },
  {
   "cell_type": "code",
   "execution_count": 11,
   "metadata": {},
   "outputs": [],
   "source": [
    "loss.backward()"
   ]
  },
  {
   "cell_type": "code",
   "execution_count": 12,
   "metadata": {},
   "outputs": [],
   "source": [
    "from matplotlib import pyplot as plt"
   ]
  },
  {
   "cell_type": "code",
   "execution_count": 17,
   "metadata": {},
   "outputs": [
    {
     "data": {
      "text/plain": [
       "[<matplotlib.lines.Line2D at 0x7f8328783350>]"
      ]
     },
     "execution_count": 17,
     "metadata": {},
     "output_type": "execute_result"
    },
    {
     "data": {
      "image/png": "[encoded data removed]",
      "text/plain": [
       "<Figure size 432x288 with 1 Axes>"
      ]
     },
     "metadata": {
      "needs_background": "light"
     },
     "output_type": "display_data"
    }
   ],
   "source": [
    "plt.plot(x.detach() , y.detach())\n",
    "plt.plot(x.detach(), x.grad)"
   ]
  },
  {
   "cell_type": "code",
   "execution_count": 19,
   "metadata": {},
   "outputs": [],
   "source": [
    "y.grad"
   ]
  },
  {
   "cell_type": "code",
   "execution_count": 18,
   "metadata": {},
   "outputs": [
    {
     "data": {
      "text/plain": [
       "tensor([ 2.0000,  2.1212,  2.2424,  2.3636,  2.4848,  2.6061,  2.7273,  2.8485,\n",
       "         2.9697,  3.0909,  3.2121,  3.3333,  3.4545,  3.5758,  3.6970,  3.8182,\n",
       "         3.9394,  4.0606,  4.1818,  4.3030,  4.4242,  4.5455,  4.6667,  4.7879,\n",
       "         4.9091,  5.0303,  5.1515,  5.2727,  5.3939,  5.5152,  5.6364,  5.7576,\n",
       "         5.8788,  6.0000,  6.1212,  6.2424,  6.3636,  6.4848,  6.6061,  6.7273,\n",
       "         6.8485,  6.9697,  7.0909,  7.2121,  7.3333,  7.4545,  7.5758,  7.6970,\n",
       "         7.8182,  7.9394,  8.0606,  8.1818,  8.3030,  8.4242,  8.5455,  8.6667,\n",
       "         8.7879,  8.9091,  9.0303,  9.1515,  9.2727,  9.3939,  9.5152,  9.6364,\n",
       "         9.7576,  9.8788, 10.0000, 10.1212, 10.2424, 10.3636, 10.4848, 10.6061,\n",
       "        10.7273, 10.8485, 10.9697, 11.0909, 11.2121, 11.3333, 11.4545, 11.5758,\n",
       "        11.6970, 11.8182, 11.9394, 12.0606, 12.1818, 12.3030, 12.4242, 12.5455,\n",
       "        12.6667, 12.7879, 12.9091, 13.0303, 13.1515, 13.2727, 13.3939, 13.5152,\n",
       "        13.6364, 13.7576, 13.8788, 14.0000])"
      ]
     },
     "execution_count": 18,
     "metadata": {},
     "output_type": "execute_result"
    }
   ],
   "source": [
    "x.grad"
   ]
  },
  {
   "cell_type": "code",
   "execution_count": 20,
   "metadata": {},
   "outputs": [
    {
     "data": {
      "text/plain": [
       "tensor([ 2.0000,  2.1212,  2.2424,  2.3636,  2.4848,  2.6061,  2.7273,  2.8485,\n",
       "         2.9697,  3.0909,  3.2121,  3.3333,  3.4545,  3.5758,  3.6970,  3.8182,\n",
       "         3.9394,  4.0606,  4.1818,  4.3030,  4.4242,  4.5455,  4.6667,  4.7879,\n",
       "         4.9091,  5.0303,  5.1515,  5.2727,  5.3939,  5.5152,  5.6364,  5.7576,\n",
       "         5.8788,  6.0000,  6.1212,  6.2424,  6.3636,  6.4848,  6.6061,  6.7273,\n",
       "         6.8485,  6.9697,  7.0909,  7.2121,  7.3333,  7.4545,  7.5758,  7.6970,\n",
       "         7.8182,  7.9394,  8.0606,  8.1818,  8.3030,  8.4242,  8.5455,  8.6667,\n",
       "         8.7879,  8.9091,  9.0303,  9.1515,  9.2727,  9.3939,  9.5152,  9.6364,\n",
       "         9.7576,  9.8788, 10.0000, 10.1212, 10.2424, 10.3636, 10.4848, 10.6061,\n",
       "        10.7273, 10.8485, 10.9697, 11.0909, 11.2121, 11.3333, 11.4545, 11.5758,\n",
       "        11.6970, 11.8182, 11.9394, 12.0606, 12.1818, 12.3030, 12.4242, 12.5455,\n",
       "        12.6667, 12.7879, 12.9091, 13.0303, 13.1515, 13.2727, 13.3939, 13.5152,\n",
       "        13.6364, 13.7576, 13.8788, 14.0000])"
      ]
     },
     "execution_count": 20,
     "metadata": {},
     "output_type": "execute_result"
    }
   ],
   "source": [
    "t.linspace(2, 14, 100)"
   ]
  },
  {
   "cell_type": "code",
   "execution_count": null,
   "metadata": {},
   "outputs": [],
   "source": []
  }
 ],
 "metadata": {
  "kernelspec": {
   "display_name": "Python 3",
   "language": "python",
   "name": "python3"
  },
  "language_info": {
   "codemirror_mode": {
    "name": "ipython",
    "version": 3
   },
   "file_extension": ".py",
   "mimetype": "text/x-python",
   "name": "python",
   "nbconvert_exporter": "python",
   "pygments_lexer": "ipython3",
   "version": "3.7.7"
  }
 },
 "nbformat": 4,
 "nbformat_minor": 4
}
